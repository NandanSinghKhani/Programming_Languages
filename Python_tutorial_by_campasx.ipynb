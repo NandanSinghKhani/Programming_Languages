{
  "nbformat": 4,
  "nbformat_minor": 0,
  "metadata": {
    "colab": {
      "provenance": []
    },
    "kernelspec": {
      "name": "python3",
      "display_name": "Python 3"
    },
    "language_info": {
      "name": "python"
    }
  },
  "cells": [
    {
      "cell_type": "code",
      "execution_count": 1,
      "metadata": {
        "colab": {
          "base_uri": "https://localhost:8080/"
        },
        "id": "jNPnLkqwhxxH",
        "outputId": "cfb9b0c7-7d22-4d27-a9d8-7ed04a2f9df4"
      },
      "outputs": [
        {
          "output_type": "stream",
          "name": "stdout",
          "text": [
            "Hello world\n"
          ]
        }
      ],
      "source": [
        "print(\"Hello world\")"
      ]
    },
    {
      "cell_type": "code",
      "source": [
        "print(6)"
      ],
      "metadata": {
        "colab": {
          "base_uri": "https://localhost:8080/"
        },
        "id": "D85dJWGih1b2",
        "outputId": "3db4e1ad-dd52-4694-eba4-1ee4e013bddc"
      },
      "execution_count": 2,
      "outputs": [
        {
          "output_type": "stream",
          "name": "stdout",
          "text": [
            "6\n"
          ]
        }
      ]
    },
    {
      "cell_type": "code",
      "source": [
        "print(5.6)"
      ],
      "metadata": {
        "colab": {
          "base_uri": "https://localhost:8080/"
        },
        "id": "oBQzxaY8h-T_",
        "outputId": "45c30bc1-2342-402d-dc21-1364b645221d"
      },
      "execution_count": 3,
      "outputs": [
        {
          "output_type": "stream",
          "name": "stdout",
          "text": [
            "5.6\n"
          ]
        }
      ]
    },
    {
      "cell_type": "code",
      "source": [
        "print(False)"
      ],
      "metadata": {
        "colab": {
          "base_uri": "https://localhost:8080/"
        },
        "id": "Q0b91kNCh-XD",
        "outputId": "49690f65-f62c-494a-c1a8-762b06ecbb31"
      },
      "execution_count": 4,
      "outputs": [
        {
          "output_type": "stream",
          "name": "stdout",
          "text": [
            "False\n"
          ]
        }
      ]
    },
    {
      "cell_type": "code",
      "source": [
        "print(\"India\" ,\"Nepal\")"
      ],
      "metadata": {
        "colab": {
          "base_uri": "https://localhost:8080/"
        },
        "id": "Wvy4vvY_h-aW",
        "outputId": "42b5b6fb-48a5-4dee-b9a7-90aff4827570"
      },
      "execution_count": 5,
      "outputs": [
        {
          "output_type": "stream",
          "name": "stdout",
          "text": [
            "India Nepal\n"
          ]
        }
      ]
    },
    {
      "cell_type": "code",
      "source": [
        "print(\"India\",5,True)"
      ],
      "metadata": {
        "colab": {
          "base_uri": "https://localhost:8080/"
        },
        "id": "xZpeXxTrh-dK",
        "outputId": "73501684-b9d5-4aaa-ce78-de458737baba"
      },
      "execution_count": 6,
      "outputs": [
        {
          "output_type": "stream",
          "name": "stdout",
          "text": [
            "India 5 True\n"
          ]
        }
      ]
    },
    {
      "cell_type": "code",
      "source": [
        "print(\"A\",\"B\",\"C\",\"D\",sep='/')"
      ],
      "metadata": {
        "colab": {
          "base_uri": "https://localhost:8080/"
        },
        "id": "Dzl2MEsVh-f5",
        "outputId": "e47fcaf2-4c26-43e2-9529-7eb13f20e291"
      },
      "execution_count": 7,
      "outputs": [
        {
          "output_type": "stream",
          "name": "stdout",
          "text": [
            "A/B/C/D\n"
          ]
        }
      ]
    },
    {
      "cell_type": "code",
      "source": [
        "print(\"Hellow\")\n",
        "print(\"World\")"
      ],
      "metadata": {
        "colab": {
          "base_uri": "https://localhost:8080/"
        },
        "id": "UgcOgm2Fipkm",
        "outputId": "4ef0136a-4ffd-42f5-8fa8-900f06c9d48c"
      },
      "execution_count": 8,
      "outputs": [
        {
          "output_type": "stream",
          "name": "stdout",
          "text": [
            "Hellow\n",
            "World\n"
          ]
        }
      ]
    },
    {
      "cell_type": "code",
      "source": [
        "print(\"Hello\",end= ' ')\n",
        "print(\"World\")"
      ],
      "metadata": {
        "colab": {
          "base_uri": "https://localhost:8080/"
        },
        "id": "9d7ntUefipoN",
        "outputId": "cd170aba-a614-4977-b8aa-9a447d4cc7ec"
      },
      "execution_count": 9,
      "outputs": [
        {
          "output_type": "stream",
          "name": "stdout",
          "text": [
            "Hello World\n"
          ]
        }
      ]
    },
    {
      "cell_type": "markdown",
      "source": [
        "**2 Lecture**\n"
      ],
      "metadata": {
        "id": "UoDcDr8gjBQK"
      }
    },
    {
      "cell_type": "markdown",
      "source": [
        "Python supports 3 categories of data types:\n",
        ".\n",
        "\n",
        "1.  Basic Types - (integer,float,complex,boolean and string)\n",
        "2.  Container Types - (List, Tuples, Sets and Dictionary)\n",
        "*   User-defined Types - Class\n",
        "\n",
        "\n",
        "\n",
        "\n",
        "\n",
        "\n",
        "\n",
        ".\n",
        "·"
      ],
      "metadata": {
        "id": "qThh1S5FjK9n"
      }
    },
    {
      "cell_type": "code",
      "source": [
        "#integer\n",
        "print(4)\n",
        "print(1e307)"
      ],
      "metadata": {
        "colab": {
          "base_uri": "https://localhost:8080/"
        },
        "id": "1obV2frgipsB",
        "outputId": "9e944c81-49a7-4395-9abb-246f707a85c9"
      },
      "execution_count": 11,
      "outputs": [
        {
          "output_type": "stream",
          "name": "stdout",
          "text": [
            "4\n",
            "1e+307\n"
          ]
        }
      ]
    },
    {
      "cell_type": "code",
      "source": [
        "#float\n",
        "print(4.5)\n",
        "print(1.7e308)"
      ],
      "metadata": {
        "colab": {
          "base_uri": "https://localhost:8080/"
        },
        "id": "Gu6gWk70i6vE",
        "outputId": "a6af13b0-0931-455d-e125-295fd9fb2fbe"
      },
      "execution_count": 12,
      "outputs": [
        {
          "output_type": "stream",
          "name": "stdout",
          "text": [
            "4.5\n",
            "1.7e+308\n"
          ]
        }
      ]
    },
    {
      "cell_type": "code",
      "source": [
        "#boolean\n",
        "print(True)\n",
        "print(False)"
      ],
      "metadata": {
        "colab": {
          "base_uri": "https://localhost:8080/"
        },
        "id": "Ln8iZM0Vi61Y",
        "outputId": "23683c78-53a1-4ee7-ec71-3c9934dd567c"
      },
      "execution_count": 13,
      "outputs": [
        {
          "output_type": "stream",
          "name": "stdout",
          "text": [
            "True\n",
            "False\n"
          ]
        }
      ]
    },
    {
      "cell_type": "code",
      "source": [
        "#complex\n",
        "print(4+5j)"
      ],
      "metadata": {
        "colab": {
          "base_uri": "https://localhost:8080/"
        },
        "id": "Z9bGz73ai634",
        "outputId": "294d6628-3f3a-4b3f-ded6-c99ff099d601"
      },
      "execution_count": 14,
      "outputs": [
        {
          "output_type": "stream",
          "name": "stdout",
          "text": [
            "(4+5j)\n"
          ]
        }
      ]
    },
    {
      "cell_type": "code",
      "source": [
        "# string\n",
        "print(\"abc\")\n",
        "print('abc')\n",
        "print(\"\"\"abc\"\"\")"
      ],
      "metadata": {
        "colab": {
          "base_uri": "https://localhost:8080/"
        },
        "id": "Z1GJlfuMkQ-x",
        "outputId": "0afd9369-1cf5-4155-8d7f-7cde6a1b2eb6"
      },
      "execution_count": 15,
      "outputs": [
        {
          "output_type": "stream",
          "name": "stdout",
          "text": [
            "abc\n",
            "abc\n",
            "abc\n"
          ]
        }
      ]
    },
    {
      "cell_type": "markdown",
      "source": [
        "contain\n",
        "\n",
        "\n",
        "*   List\n",
        "*  Tuple\n",
        "\n"
      ],
      "metadata": {
        "id": "8rBAmxZJkp3i"
      }
    },
    {
      "cell_type": "code",
      "source": [
        "#List\n",
        "print([1,2,3,4,5])"
      ],
      "metadata": {
        "colab": {
          "base_uri": "https://localhost:8080/"
        },
        "id": "IddDBL4FkRBx",
        "outputId": "bcda6143-0e2c-4bfd-c391-65280a819949"
      },
      "execution_count": 16,
      "outputs": [
        {
          "output_type": "stream",
          "name": "stdout",
          "text": [
            "[1, 2, 3, 4, 5]\n"
          ]
        }
      ]
    },
    {
      "cell_type": "code",
      "source": [
        "#tuple\n",
        "print((1,2,3,4,5))"
      ],
      "metadata": {
        "colab": {
          "base_uri": "https://localhost:8080/"
        },
        "id": "I5ZjoeRlkRIP",
        "outputId": "bfd0bfe0-0604-49b2-b46b-b00662c463eb"
      },
      "execution_count": 18,
      "outputs": [
        {
          "output_type": "stream",
          "name": "stdout",
          "text": [
            "(1, 2, 3, 4, 5)\n"
          ]
        }
      ]
    },
    {
      "cell_type": "code",
      "source": [
        "#sets\n",
        "print({1,2,3,4,5})"
      ],
      "metadata": {
        "colab": {
          "base_uri": "https://localhost:8080/"
        },
        "id": "XPnbo_XmkRMR",
        "outputId": "e9f74352-f15b-44fb-95fc-06c795a4556e"
      },
      "execution_count": 19,
      "outputs": [
        {
          "output_type": "stream",
          "name": "stdout",
          "text": [
            "{1, 2, 3, 4, 5}\n"
          ]
        }
      ]
    },
    {
      "cell_type": "code",
      "source": [
        "#Dictionary\n",
        "print({\"Name\":\"Ram\",\"Age\":30,\"gender\":\"Male\"})"
      ],
      "metadata": {
        "colab": {
          "base_uri": "https://localhost:8080/"
        },
        "id": "pbln_XBXi68p",
        "outputId": "272b09a7-48d1-4828-89d0-b1e72d6f8f7d"
      },
      "execution_count": 20,
      "outputs": [
        {
          "output_type": "stream",
          "name": "stdout",
          "text": [
            "{'Name': 'Ram', 'Age': 30, 'gender': 'Male'}\n"
          ]
        }
      ]
    },
    {
      "cell_type": "markdown",
      "source": [
        "3 LECTURE"
      ],
      "metadata": {
        "id": "PvfrmU8BlPZo"
      }
    },
    {
      "cell_type": "code",
      "source": [
        "#Comments\n",
        "#this is a comment"
      ],
      "metadata": {
        "id": "vN_5SU_VipyB"
      },
      "execution_count": 21,
      "outputs": []
    },
    {
      "cell_type": "markdown",
      "source": [
        "4 LECTURE"
      ],
      "metadata": {
        "id": "LmRpDEedl0sz"
      }
    },
    {
      "cell_type": "code",
      "source": [
        "name = \"Ram\"\n",
        "print(name)"
      ],
      "metadata": {
        "colab": {
          "base_uri": "https://localhost:8080/"
        },
        "id": "-RFRBBCrip1t",
        "outputId": "394d2f18-941f-4c2d-f402-5593b76334ee"
      },
      "execution_count": 22,
      "outputs": [
        {
          "output_type": "stream",
          "name": "stdout",
          "text": [
            "Ram\n"
          ]
        }
      ]
    },
    {
      "cell_type": "code",
      "source": [
        "#No variable declaration\n",
        "#Dyamic Typing\n"
      ],
      "metadata": {
        "id": "X_fQPTQTl39G"
      },
      "execution_count": null,
      "outputs": []
    },
    {
      "cell_type": "code",
      "source": [
        "#Dynamic Binding\n",
        "name= True\n",
        "print(name)"
      ],
      "metadata": {
        "colab": {
          "base_uri": "https://localhost:8080/"
        },
        "id": "885hWeKrl4AO",
        "outputId": "a3789c8d-ce12-4d19-dce3-2cb9d229b665"
      },
      "execution_count": 24,
      "outputs": [
        {
          "output_type": "stream",
          "name": "stdout",
          "text": [
            "True\n"
          ]
        }
      ]
    },
    {
      "cell_type": "code",
      "source": [
        "#special syntax\n",
        "a=5; b=6;c=8\n",
        "print(a)\n",
        "print(b)\n",
        "print(c)"
      ],
      "metadata": {
        "colab": {
          "base_uri": "https://localhost:8080/"
        },
        "id": "30WR-Alol4D3",
        "outputId": "8029bb32-1e2c-4dc0-f5cb-e385bf4b2ce0"
      },
      "execution_count": 26,
      "outputs": [
        {
          "output_type": "stream",
          "name": "stdout",
          "text": [
            "5\n",
            "6\n",
            "8\n"
          ]
        }
      ]
    },
    {
      "cell_type": "code",
      "source": [
        "a,b,c =4,5,6\n",
        "print(a)\n",
        "print(b)\n",
        "print(c)"
      ],
      "metadata": {
        "colab": {
          "base_uri": "https://localhost:8080/"
        },
        "id": "RY66Pv6Hl3F3",
        "outputId": "fa01ec65-5983-4cb0-8ffb-22ac1f4888c2"
      },
      "execution_count": 27,
      "outputs": [
        {
          "output_type": "stream",
          "name": "stdout",
          "text": [
            "4\n",
            "5\n",
            "6\n"
          ]
        }
      ]
    },
    {
      "cell_type": "markdown",
      "source": [
        "5 LECTURE"
      ],
      "metadata": {
        "id": "1ADEfEWNncDv"
      }
    },
    {
      "cell_type": "markdown",
      "source": [
        "Keywords\n",
        "\n",
        "\n",
        "\n",
        "*   Python is a case sensitive programming language\n",
        "*   In programming, a keyword is a word that is reserved by a program because the word has a special meaning. Keywords can\n",
        "be commands or parameters. Every programming language has a set of keywords that cannot be used as variable names\n",
        "\n",
        "\n",
        "\n"
      ],
      "metadata": {
        "id": "9V5sG8d5qOlD"
      }
    },
    {
      "cell_type": "code",
      "source": [
        "#python has 33 keywords\n",
        "import keyword\n",
        "print(keyword.kwlist)"
      ],
      "metadata": {
        "colab": {
          "base_uri": "https://localhost:8080/"
        },
        "id": "M-Zs9FVnl3JT",
        "outputId": "2435f41f-1ab5-40a0-f911-1a31edcc7e09"
      },
      "execution_count": 29,
      "outputs": [
        {
          "output_type": "stream",
          "name": "stdout",
          "text": [
            "['False', 'None', 'True', 'and', 'as', 'assert', 'async', 'await', 'break', 'class', 'continue', 'def', 'del', 'elif', 'else', 'except', 'finally', 'for', 'from', 'global', 'if', 'import', 'in', 'is', 'lambda', 'nonlocal', 'not', 'or', 'pass', 'raise', 'return', 'try', 'while', 'with', 'yield']\n"
          ]
        }
      ]
    },
    {
      "cell_type": "markdown",
      "source": [
        "**Identifiers**\n",
        "\n",
        "\n",
        "*   A python identifier is a name used to identify a variable, function, class , module or other object.\n",
        "*  ** Rules for setting Identifiers**\n",
        "*    can only start with an alphabet or\n",
        "*   Followed by 0 or more letter,_ and digits\n",
        "*  keywords cannot be used as an identifiers\n",
        "\n",
        "\n",
        "\n",
        "\n"
      ],
      "metadata": {
        "id": "4f3ExUlTrK3k"
      }
    },
    {
      "cell_type": "markdown",
      "source": [
        "6 LECTURE"
      ],
      "metadata": {
        "id": "S-gQ2bb9sV-D"
      }
    },
    {
      "cell_type": "code",
      "source": [
        "input(prompt=\"Enter name: \")"
      ],
      "metadata": {
        "colab": {
          "base_uri": "https://localhost:8080/",
          "height": 52
        },
        "id": "XZpXDLSLl3Pi",
        "outputId": "b273c7c1-8cfa-4e6b-9657-4f70734f33c3"
      },
      "execution_count": 32,
      "outputs": [
        {
          "name": "stdout",
          "output_type": "stream",
          "text": [
            "Enter name: abc\n"
          ]
        },
        {
          "output_type": "execute_result",
          "data": {
            "text/plain": [
              "'abc'"
            ],
            "application/vnd.google.colaboratory.intrinsic+json": {
              "type": "string"
            }
          },
          "metadata": {},
          "execution_count": 32
        }
      ]
    },
    {
      "cell_type": "code",
      "source": [
        "first_num = input(\"Enter the first number \")\n",
        "second_num = input(\"Enter the second number \")\n"
      ],
      "metadata": {
        "colab": {
          "base_uri": "https://localhost:8080/"
        },
        "id": "PltZ_Vaol3Sq",
        "outputId": "fb958cf0-ae7b-49e7-c56e-4c7ac72ebc4e"
      },
      "execution_count": 33,
      "outputs": [
        {
          "name": "stdout",
          "output_type": "stream",
          "text": [
            "Enter the first number 5\n",
            "Enter the second number 6\n"
          ]
        }
      ]
    },
    {
      "cell_type": "code",
      "source": [
        "result = first_num + second_num\n",
        "print(result)"
      ],
      "metadata": {
        "colab": {
          "base_uri": "https://localhost:8080/"
        },
        "id": "0T8UzJhul3V0",
        "outputId": "5c88e300-7326-4208-8c84-8dca51b193d3"
      },
      "execution_count": 34,
      "outputs": [
        {
          "output_type": "stream",
          "name": "stdout",
          "text": [
            "56\n"
          ]
        }
      ]
    },
    {
      "cell_type": "code",
      "source": [
        "# type\n",
        "type([1,2,3,4])"
      ],
      "metadata": {
        "colab": {
          "base_uri": "https://localhost:8080/"
        },
        "id": "yFJnYLVQl3Yx",
        "outputId": "98b0bb14-2d21-431c-e207-961abcf77d30"
      },
      "execution_count": 35,
      "outputs": [
        {
          "output_type": "execute_result",
          "data": {
            "text/plain": [
              "list"
            ]
          },
          "metadata": {},
          "execution_count": 35
        }
      ]
    },
    {
      "cell_type": "code",
      "source": [],
      "metadata": {
        "id": "_AKaHgXTuBz4"
      },
      "execution_count": null,
      "outputs": []
    },
    {
      "cell_type": "markdown",
      "source": [
        "7 LECTURE\n"
      ],
      "metadata": {
        "id": "fYk1HDnbt3T9"
      }
    },
    {
      "cell_type": "code",
      "source": [
        "#Implicit\n",
        "#explicit\n",
        "\n"
      ],
      "metadata": {
        "id": "G50EPFsql3bW"
      },
      "execution_count": null,
      "outputs": []
    },
    {
      "cell_type": "code",
      "source": [
        "4 + 5.5"
      ],
      "metadata": {
        "colab": {
          "base_uri": "https://localhost:8080/"
        },
        "id": "UggzrXAUuJvy",
        "outputId": "422b1efe-8cd8-4048-9b7b-eae0b5c69eba"
      },
      "execution_count": 36,
      "outputs": [
        {
          "output_type": "execute_result",
          "data": {
            "text/plain": [
              "9.5"
            ]
          },
          "metadata": {},
          "execution_count": 36
        }
      ]
    },
    {
      "cell_type": "code",
      "source": [
        "5+6+7j"
      ],
      "metadata": {
        "colab": {
          "base_uri": "https://localhost:8080/"
        },
        "id": "k2GHxlUuuJzM",
        "outputId": "cfb5957e-f442-42d7-9211-5292a02962af"
      },
      "execution_count": 37,
      "outputs": [
        {
          "output_type": "execute_result",
          "data": {
            "text/plain": [
              "(11+7j)"
            ]
          },
          "metadata": {},
          "execution_count": 37
        }
      ]
    },
    {
      "cell_type": "code",
      "source": [],
      "metadata": {
        "id": "WjHXWX-quDMS"
      },
      "execution_count": null,
      "outputs": []
    },
    {
      "cell_type": "code",
      "source": [
        "#int\n",
        "int(4.5)"
      ],
      "metadata": {
        "colab": {
          "base_uri": "https://localhost:8080/"
        },
        "id": "5INbOELmuDPi",
        "outputId": "117197a8-e331-4869-c953-69b031e43aa1"
      },
      "execution_count": 38,
      "outputs": [
        {
          "output_type": "execute_result",
          "data": {
            "text/plain": [
              "4"
            ]
          },
          "metadata": {},
          "execution_count": 38
        }
      ]
    },
    {
      "cell_type": "code",
      "source": [
        "str(5)\n"
      ],
      "metadata": {
        "colab": {
          "base_uri": "https://localhost:8080/",
          "height": 35
        },
        "id": "7QfcbDF3uDTr",
        "outputId": "8f9edb4b-d4f9-44ce-a6eb-d857daa88156"
      },
      "execution_count": 44,
      "outputs": [
        {
          "output_type": "execute_result",
          "data": {
            "text/plain": [
              "'5'"
            ],
            "application/vnd.google.colaboratory.intrinsic+json": {
              "type": "string"
            }
          },
          "metadata": {},
          "execution_count": 44
        }
      ]
    },
    {
      "cell_type": "code",
      "source": [
        "complex(4)\n"
      ],
      "metadata": {
        "colab": {
          "base_uri": "https://localhost:8080/"
        },
        "id": "oqjMwzDmuDXI",
        "outputId": "ee8966c3-950c-4797-d5d9-503b26e95985"
      },
      "execution_count": 45,
      "outputs": [
        {
          "output_type": "execute_result",
          "data": {
            "text/plain": [
              "(4+0j)"
            ]
          },
          "metadata": {},
          "execution_count": 45
        }
      ]
    },
    {
      "cell_type": "code",
      "source": [
        "bool(1)"
      ],
      "metadata": {
        "colab": {
          "base_uri": "https://localhost:8080/"
        },
        "id": "FRvY_FjHuDaA",
        "outputId": "341839c3-cd13-4504-e17b-e70eff23ba42"
      },
      "execution_count": 46,
      "outputs": [
        {
          "output_type": "execute_result",
          "data": {
            "text/plain": [
              "True"
            ]
          },
          "metadata": {},
          "execution_count": 46
        }
      ]
    },
    {
      "cell_type": "code",
      "source": [
        "list('Hello')"
      ],
      "metadata": {
        "colab": {
          "base_uri": "https://localhost:8080/"
        },
        "id": "tFX3PstQuDfY",
        "outputId": "d7a35155-9541-4d00-fe82-925f5bd14bfd"
      },
      "execution_count": 47,
      "outputs": [
        {
          "output_type": "execute_result",
          "data": {
            "text/plain": [
              "['H', 'e', 'l', 'l', 'o']"
            ]
          },
          "metadata": {},
          "execution_count": 47
        }
      ]
    },
    {
      "cell_type": "code",
      "source": [
        "first_num = int(input(\"Enter the first number \"))\n",
        "second_num = int(input(\"Enter the second number \"))\n"
      ],
      "metadata": {
        "colab": {
          "base_uri": "https://localhost:8080/"
        },
        "id": "NKbDr_HmvI5a",
        "outputId": "a4d0a27f-dae2-4f74-e584-359520e06b25"
      },
      "execution_count": 54,
      "outputs": [
        {
          "name": "stdout",
          "output_type": "stream",
          "text": [
            "Enter the first number 7\n",
            "Enter the second number 9\n"
          ]
        }
      ]
    },
    {
      "cell_type": "markdown",
      "source": [],
      "metadata": {
        "id": "hfeUoi_O0P-p"
      }
    },
    {
      "cell_type": "code",
      "source": [
        "result = first_num + second_num\n",
        "print(result)"
      ],
      "metadata": {
        "colab": {
          "base_uri": "https://localhost:8080/"
        },
        "id": "vYkn4MYYuzSf",
        "outputId": "960de2b5-bc03-4de0-d4ff-1d2102898660"
      },
      "execution_count": 55,
      "outputs": [
        {
          "output_type": "stream",
          "name": "stdout",
          "text": [
            "16\n"
          ]
        }
      ]
    },
    {
      "cell_type": "markdown",
      "source": [
        "8 LECTURE"
      ],
      "metadata": {
        "id": "6lz2Ljaqvr15"
      }
    },
    {
      "cell_type": "markdown",
      "source": [
        "**Literals**\n",
        "\n",
        "\n",
        "\n",
        "*  Literal is a raw data given in a variable. In Python, there are various types of literals they are as follows:\n",
        "\n",
        "*   Numeric Literals\n",
        "*   String Literals\n",
        "*   Boolean Literals\n",
        "*   Special Literals"
      ],
      "metadata": {
        "id": "a9RJyKwt0R0z"
      }
    },
    {
      "cell_type": "markdown",
      "source": [
        "**1. Numeric Literals**"
      ],
      "metadata": {
        "id": "gcnfl7XH0wgx"
      }
    },
    {
      "cell_type": "code",
      "source": [
        "a = 0b1010 #Binary Literals\n",
        "b = 100 #Decimal Literal\n",
        "C = 0O310 #Octal Literal\n",
        "d = 0x12c #Hexadecimal Literal\n",
        "\n",
        "#Float Literal\n",
        "float_1 = 10.5\n",
        "float_2 = 1.5e2\n",
        "float_3 = 1.5e-3\n",
        "\n",
        "#Complex Literal\n",
        "x = 1 + 3.14j\n",
        "\n",
        "print(a, b, c, d)\n",
        "print(float_1, float_2,float_3)\n",
        "print(x, x.imag, x.real)\n",
        "\n"
      ],
      "metadata": {
        "colab": {
          "base_uri": "https://localhost:8080/"
        },
        "id": "TTu-Sgt-uzZb",
        "outputId": "dbb31a3e-a3f5-4bb6-baee-175db3cd75ab"
      },
      "execution_count": 60,
      "outputs": [
        {
          "output_type": "stream",
          "name": "stdout",
          "text": [
            "10 100 6 300\n",
            "10.5 150.0 0.0015\n",
            "(1+3.14j) 3.14 1.0\n"
          ]
        }
      ]
    },
    {
      "cell_type": "markdown",
      "source": [
        "**2. String Literals**"
      ],
      "metadata": {
        "id": "hZ96A5661btB"
      }
    },
    {
      "cell_type": "code",
      "source": [
        "string = 'This is Python'\n",
        "strings = \"This is Python\"\n",
        "char = \"C\"\n",
        "multiline_str = \"\"\"This is a multiline string with more than one line code.\"\"\"\n",
        "unicode = u\"\\U0001f600\\U0001F606\\U0001F923\"\n",
        "raw_str = r\"raw \\n string\"\n",
        "\n",
        "print(string)\n",
        "print(strings)\n",
        "print(char)\n",
        "print(multiline_str)\n",
        "print(unicode)\n",
        "print(raw_str)\n",
        "\n"
      ],
      "metadata": {
        "colab": {
          "base_uri": "https://localhost:8080/"
        },
        "id": "efiWjId4uzch",
        "outputId": "6a5afd44-ff9c-4dcc-9dc2-ae957fbf463a"
      },
      "execution_count": 62,
      "outputs": [
        {
          "output_type": "stream",
          "name": "stdout",
          "text": [
            "This is Python\n",
            "This is Python\n",
            "C\n",
            "This is a multiline string with more than one line code.\n",
            "😀😆🤣\n",
            "raw \\n string\n"
          ]
        }
      ]
    },
    {
      "cell_type": "markdown",
      "source": [
        "**3. Boolean Literal**"
      ],
      "metadata": {
        "id": "LnMYcybj1qwY"
      }
    },
    {
      "cell_type": "code",
      "source": [
        "a = True + 4\n",
        "b= False + 10\n",
        "\n",
        "print(\"a\",a)\n",
        "print(\"b\",b)"
      ],
      "metadata": {
        "colab": {
          "base_uri": "https://localhost:8080/"
        },
        "id": "0vvHEP_a1gG0",
        "outputId": "08eca7e6-4b6d-4194-916a-4f8d0be707dd"
      },
      "execution_count": 63,
      "outputs": [
        {
          "output_type": "stream",
          "name": "stdout",
          "text": [
            "a 5\n",
            "b 10\n"
          ]
        }
      ]
    },
    {
      "cell_type": "markdown",
      "source": [
        "**4.Special Literal**"
      ],
      "metadata": {
        "id": "0gu0XWbK19uB"
      }
    },
    {
      "cell_type": "code",
      "source": [
        "a = None\n",
        "print(a)"
      ],
      "metadata": {
        "colab": {
          "base_uri": "https://localhost:8080/"
        },
        "id": "ymAoyRZj1gJx",
        "outputId": "8a9ade59-9039-4b31-9cc9-496b438dfb67"
      },
      "execution_count": 64,
      "outputs": [
        {
          "output_type": "stream",
          "name": "stdout",
          "text": [
            "None\n"
          ]
        }
      ]
    },
    {
      "cell_type": "code",
      "source": [
        "# variable declare having no value\n",
        "k =None"
      ],
      "metadata": {
        "id": "SbbbDq8x1gMl"
      },
      "execution_count": 66,
      "outputs": []
    },
    {
      "cell_type": "markdown",
      "source": [
        "**9 LECTURE**"
      ],
      "metadata": {
        "id": "RaKwK5Te2cu5"
      }
    },
    {
      "cell_type": "markdown",
      "source": [
        "**Operators**\n",
        "\n",
        "\n",
        "*   Operators are used to perform operations on variables and values."
      ],
      "metadata": {
        "id": "47NDsaxf2jpo"
      }
    },
    {
      "cell_type": "markdown",
      "source": [
        "**1. Arithmetic Operators**"
      ],
      "metadata": {
        "id": "-5Tu7kwf21jp"
      }
    },
    {
      "cell_type": "code",
      "source": [
        "x = 5\n",
        "y= 3\n",
        "print(x+y)"
      ],
      "metadata": {
        "colab": {
          "base_uri": "https://localhost:8080/"
        },
        "id": "9xW_koEL1gPM",
        "outputId": "802a215d-e9ee-4415-e1f4-2146b2a68c84"
      },
      "execution_count": 67,
      "outputs": [
        {
          "output_type": "stream",
          "name": "stdout",
          "text": [
            "8\n"
          ]
        }
      ]
    },
    {
      "cell_type": "code",
      "source": [
        "print(x-y)"
      ],
      "metadata": {
        "colab": {
          "base_uri": "https://localhost:8080/"
        },
        "id": "OGQC4I7728bp",
        "outputId": "6baf00da-42fe-4e8a-ff22-5baa9f7b509f"
      },
      "execution_count": 68,
      "outputs": [
        {
          "output_type": "stream",
          "name": "stdout",
          "text": [
            "2\n"
          ]
        }
      ]
    },
    {
      "cell_type": "code",
      "source": [
        "print(x*y)"
      ],
      "metadata": {
        "colab": {
          "base_uri": "https://localhost:8080/"
        },
        "id": "LSsHHWU528e4",
        "outputId": "f48007b3-7403-4890-8332-23fc21a02a2d"
      },
      "execution_count": 69,
      "outputs": [
        {
          "output_type": "stream",
          "name": "stdout",
          "text": [
            "15\n"
          ]
        }
      ]
    },
    {
      "cell_type": "code",
      "source": [
        "print(x/y)"
      ],
      "metadata": {
        "colab": {
          "base_uri": "https://localhost:8080/"
        },
        "id": "7FdD71y028iM",
        "outputId": "0ffca35f-96b5-4044-8377-d72502deb79d"
      },
      "execution_count": 70,
      "outputs": [
        {
          "output_type": "stream",
          "name": "stdout",
          "text": [
            "1.6666666666666667\n"
          ]
        }
      ]
    },
    {
      "cell_type": "code",
      "source": [
        "print(x%y)"
      ],
      "metadata": {
        "colab": {
          "base_uri": "https://localhost:8080/"
        },
        "id": "bgjYnn5i28lv",
        "outputId": "de2f4f0e-df7b-4c52-e660-2ad5ecdbc4ee"
      },
      "execution_count": 71,
      "outputs": [
        {
          "output_type": "stream",
          "name": "stdout",
          "text": [
            "2\n"
          ]
        }
      ]
    },
    {
      "cell_type": "code",
      "source": [
        "print(x**y)"
      ],
      "metadata": {
        "colab": {
          "base_uri": "https://localhost:8080/"
        },
        "id": "nNB1tdwSuzf6",
        "outputId": "bd4dbeae-5e56-4659-f77d-17ce8ef61cf6"
      },
      "execution_count": 72,
      "outputs": [
        {
          "output_type": "stream",
          "name": "stdout",
          "text": [
            "125\n"
          ]
        }
      ]
    },
    {
      "cell_type": "code",
      "source": [
        "print(x // 2)"
      ],
      "metadata": {
        "colab": {
          "base_uri": "https://localhost:8080/"
        },
        "id": "fYEQtvIYuzia",
        "outputId": "9113fa1d-b646-4afb-ca8b-697f24a22de5"
      },
      "execution_count": 73,
      "outputs": [
        {
          "output_type": "stream",
          "name": "stdout",
          "text": [
            "2\n"
          ]
        }
      ]
    },
    {
      "cell_type": "markdown",
      "source": [
        "***2. Comparision Operators***"
      ],
      "metadata": {
        "id": "iTjb1dxG34k5"
      }
    },
    {
      "cell_type": "code",
      "source": [
        "print(x > y)"
      ],
      "metadata": {
        "colab": {
          "base_uri": "https://localhost:8080/"
        },
        "id": "JGf0yEZP3ZTp",
        "outputId": "dbedb64a-b4b6-4977-fcc0-723a7b4c5640"
      },
      "execution_count": 74,
      "outputs": [
        {
          "output_type": "stream",
          "name": "stdout",
          "text": [
            "True\n"
          ]
        }
      ]
    },
    {
      "cell_type": "code",
      "source": [
        "print(x < y )"
      ],
      "metadata": {
        "colab": {
          "base_uri": "https://localhost:8080/"
        },
        "id": "3GZjsZBV3ZWs",
        "outputId": "70c29338-17d3-4e5a-9f67-6ab68baa25c4"
      },
      "execution_count": 75,
      "outputs": [
        {
          "output_type": "stream",
          "name": "stdout",
          "text": [
            "False\n"
          ]
        }
      ]
    },
    {
      "cell_type": "code",
      "source": [
        "print( x>=y)"
      ],
      "metadata": {
        "colab": {
          "base_uri": "https://localhost:8080/"
        },
        "id": "V7iaDICA3ZaJ",
        "outputId": "d3e30bf6-6d6d-41aa-b1c1-107b4774a37f"
      },
      "execution_count": 76,
      "outputs": [
        {
          "output_type": "stream",
          "name": "stdout",
          "text": [
            "True\n"
          ]
        }
      ]
    },
    {
      "cell_type": "code",
      "source": [
        "print( x<=y)"
      ],
      "metadata": {
        "colab": {
          "base_uri": "https://localhost:8080/"
        },
        "id": "aRv_cWDi3ZiR",
        "outputId": "8a1babff-c80c-46be-d751-1321ff1334d3"
      },
      "execution_count": 77,
      "outputs": [
        {
          "output_type": "stream",
          "name": "stdout",
          "text": [
            "False\n"
          ]
        }
      ]
    },
    {
      "cell_type": "code",
      "source": [
        "print( x==y)"
      ],
      "metadata": {
        "colab": {
          "base_uri": "https://localhost:8080/"
        },
        "id": "q0YI80fn3Zpa",
        "outputId": "82a2af8f-b508-4255-c91b-a5f4d5e39f5c"
      },
      "execution_count": 78,
      "outputs": [
        {
          "output_type": "stream",
          "name": "stdout",
          "text": [
            "False\n"
          ]
        }
      ]
    },
    {
      "cell_type": "code",
      "source": [
        "print( x!=y)"
      ],
      "metadata": {
        "colab": {
          "base_uri": "https://localhost:8080/"
        },
        "id": "ZLq2FK923Zt4",
        "outputId": "1adf8f99-a469-49ee-d62b-15dad7ca62c2"
      },
      "execution_count": 79,
      "outputs": [
        {
          "output_type": "stream",
          "name": "stdout",
          "text": [
            "True\n"
          ]
        }
      ]
    },
    {
      "cell_type": "markdown",
      "source": [
        "**3. Logical Operators**"
      ],
      "metadata": {
        "id": "aokVSzDY4WNx"
      }
    },
    {
      "cell_type": "code",
      "source": [
        "x = True\n",
        "y = False\n",
        "\n",
        "print( x or y)\n"
      ],
      "metadata": {
        "colab": {
          "base_uri": "https://localhost:8080/"
        },
        "id": "1zkGG4jd4Uhi",
        "outputId": "17bd0f3e-396d-4a55-e4a2-97b8482cdce7"
      },
      "execution_count": 80,
      "outputs": [
        {
          "output_type": "stream",
          "name": "stdout",
          "text": [
            "True\n"
          ]
        }
      ]
    },
    {
      "cell_type": "code",
      "source": [
        "print(x and y)"
      ],
      "metadata": {
        "colab": {
          "base_uri": "https://localhost:8080/"
        },
        "id": "Ql6ilO914Uk5",
        "outputId": "5844e21c-57e8-488e-b8f4-aaf09443f3d5"
      },
      "execution_count": 81,
      "outputs": [
        {
          "output_type": "stream",
          "name": "stdout",
          "text": [
            "False\n"
          ]
        }
      ]
    },
    {
      "cell_type": "code",
      "source": [
        "print( not x)"
      ],
      "metadata": {
        "colab": {
          "base_uri": "https://localhost:8080/"
        },
        "id": "zLv20zGB4lD_",
        "outputId": "290b42db-5602-4280-819a-afe512e17c73"
      },
      "execution_count": 82,
      "outputs": [
        {
          "output_type": "stream",
          "name": "stdout",
          "text": [
            "False\n"
          ]
        }
      ]
    },
    {
      "cell_type": "markdown",
      "source": [
        "**4. Bitwise Operators**"
      ],
      "metadata": {
        "id": "SZZl8IPu4tDr"
      }
    },
    {
      "cell_type": "code",
      "source": [
        "x=2\n",
        "y=3\n"
      ],
      "metadata": {
        "id": "jyMP69mw4lMA"
      },
      "execution_count": 84,
      "outputs": []
    },
    {
      "cell_type": "code",
      "source": [
        "print( x & y)"
      ],
      "metadata": {
        "colab": {
          "base_uri": "https://localhost:8080/"
        },
        "id": "0m3ga_sL4UoR",
        "outputId": "9fe4b830-1840-4b03-b56a-06dff72b4c87"
      },
      "execution_count": 85,
      "outputs": [
        {
          "output_type": "stream",
          "name": "stdout",
          "text": [
            "2\n"
          ]
        }
      ]
    },
    {
      "cell_type": "code",
      "source": [
        "print(x |y)"
      ],
      "metadata": {
        "colab": {
          "base_uri": "https://localhost:8080/"
        },
        "id": "ijccd6R04UrU",
        "outputId": "6197a363-d25b-423a-ffed-d547f6cd236b"
      },
      "execution_count": 86,
      "outputs": [
        {
          "output_type": "stream",
          "name": "stdout",
          "text": [
            "3\n"
          ]
        }
      ]
    },
    {
      "cell_type": "code",
      "source": [
        "print( x >> 2)"
      ],
      "metadata": {
        "colab": {
          "base_uri": "https://localhost:8080/"
        },
        "id": "O7H9R74V4Uuv",
        "outputId": "a3321135-4aa0-4451-8e78-cae8122f7f03"
      },
      "execution_count": 87,
      "outputs": [
        {
          "output_type": "stream",
          "name": "stdout",
          "text": [
            "0\n"
          ]
        }
      ]
    },
    {
      "cell_type": "code",
      "source": [
        "print( x << 2)"
      ],
      "metadata": {
        "colab": {
          "base_uri": "https://localhost:8080/"
        },
        "id": "FiHwcbnV4U1S",
        "outputId": "35bf37b4-7be5-4f62-e5a7-c5c7b60b400f"
      },
      "execution_count": 88,
      "outputs": [
        {
          "output_type": "stream",
          "name": "stdout",
          "text": [
            "8\n"
          ]
        }
      ]
    },
    {
      "cell_type": "code",
      "source": [
        "print(~x)"
      ],
      "metadata": {
        "colab": {
          "base_uri": "https://localhost:8080/"
        },
        "id": "SX0qY3WP5BfR",
        "outputId": "c3805493-91e4-42e1-af1b-725340e4dec0"
      },
      "execution_count": 89,
      "outputs": [
        {
          "output_type": "stream",
          "name": "stdout",
          "text": [
            "-3\n"
          ]
        }
      ]
    },
    {
      "cell_type": "markdown",
      "source": [
        "**5. Assignment Operators**"
      ],
      "metadata": {
        "id": "zY4cVwf75Kmg"
      }
    },
    {
      "cell_type": "code",
      "source": [
        "a = 3"
      ],
      "metadata": {
        "id": "b22kiGux5BjQ"
      },
      "execution_count": 93,
      "outputs": []
    },
    {
      "cell_type": "code",
      "source": [
        "a +=3\n",
        "print(a)"
      ],
      "metadata": {
        "colab": {
          "base_uri": "https://localhost:8080/"
        },
        "id": "Ybki6pPi5RVD",
        "outputId": "3a09a24f-38cf-4bb2-84a4-2731024114b3"
      },
      "execution_count": 94,
      "outputs": [
        {
          "output_type": "stream",
          "name": "stdout",
          "text": [
            "6\n"
          ]
        }
      ]
    },
    {
      "cell_type": "code",
      "source": [
        "a -=3\n",
        "a *=3\n",
        "a &=4"
      ],
      "metadata": {
        "id": "32QugPMT5RYe"
      },
      "execution_count": 95,
      "outputs": []
    },
    {
      "cell_type": "code",
      "source": [
        "# pre / post increment or decrement is not allowed in python"
      ],
      "metadata": {
        "id": "Ha7GGlNZ5RbU"
      },
      "execution_count": 96,
      "outputs": []
    },
    {
      "cell_type": "markdown",
      "source": [
        "**6. Identity Variable**"
      ],
      "metadata": {
        "id": "fDVMsnlT5xJh"
      }
    },
    {
      "cell_type": "code",
      "source": [
        "p=3\n",
        "q=3\n",
        "print(p is q)"
      ],
      "metadata": {
        "colab": {
          "base_uri": "https://localhost:8080/"
        },
        "id": "cpM2aNFT5ReO",
        "outputId": "ae48e30d-95a1-4b49-de82-9e60ba8aaff5"
      },
      "execution_count": 97,
      "outputs": [
        {
          "output_type": "stream",
          "name": "stdout",
          "text": [
            "True\n"
          ]
        }
      ]
    },
    {
      "cell_type": "code",
      "source": [
        "p= \"hello\"\n",
        "q= \"hello\"\n",
        "print(p is q)"
      ],
      "metadata": {
        "colab": {
          "base_uri": "https://localhost:8080/"
        },
        "id": "jHO4aNkx5QMB",
        "outputId": "c543fc45-39b1-48a1-b42f-e532c69fc13d"
      },
      "execution_count": 98,
      "outputs": [
        {
          "output_type": "stream",
          "name": "stdout",
          "text": [
            "True\n"
          ]
        }
      ]
    },
    {
      "cell_type": "code",
      "source": [
        "a= [1,2,3]\n",
        "b= [1,2,3]\n",
        "print ( a is b)"
      ],
      "metadata": {
        "colab": {
          "base_uri": "https://localhost:8080/"
        },
        "id": "cPuatPdr5QPJ",
        "outputId": "e9fd1031-ba60-4ee0-90f0-efd043a1759b"
      },
      "execution_count": 100,
      "outputs": [
        {
          "output_type": "stream",
          "name": "stdout",
          "text": [
            "False\n"
          ]
        }
      ]
    },
    {
      "cell_type": "markdown",
      "source": [
        "**7. Membership Operators**"
      ],
      "metadata": {
        "id": "7xo-3jiZ6duR"
      }
    },
    {
      "cell_type": "code",
      "source": [
        "x = \"delhi\"\n",
        "print(\"d\" not in x)"
      ],
      "metadata": {
        "colab": {
          "base_uri": "https://localhost:8080/"
        },
        "id": "ATjGyMq15QSM",
        "outputId": "78cc2f1f-ec41-4a85-db82-252b73b967d4"
      },
      "execution_count": 101,
      "outputs": [
        {
          "output_type": "stream",
          "name": "stdout",
          "text": [
            "False\n"
          ]
        }
      ]
    },
    {
      "cell_type": "code",
      "source": [
        "x = \"delhi\"\n",
        "print(\"d\" in x)"
      ],
      "metadata": {
        "colab": {
          "base_uri": "https://localhost:8080/"
        },
        "id": "dcAAc0I96lgV",
        "outputId": "43e2a93c-cc88-422b-832f-638330cf8491"
      },
      "execution_count": 102,
      "outputs": [
        {
          "output_type": "stream",
          "name": "stdout",
          "text": [
            "True\n"
          ]
        }
      ]
    },
    {
      "cell_type": "code",
      "source": [
        "x = [1,2,3]\n",
        "print(5 in x)"
      ],
      "metadata": {
        "colab": {
          "base_uri": "https://localhost:8080/"
        },
        "id": "1wwRjWQt6ljb",
        "outputId": "a0fd2196-96ef-4e9c-e28e-039ec05a4f49"
      },
      "execution_count": 103,
      "outputs": [
        {
          "output_type": "stream",
          "name": "stdout",
          "text": [
            "False\n"
          ]
        }
      ]
    },
    {
      "cell_type": "markdown",
      "source": [
        "**10 LECTURE**\n",
        "\n",
        "\n",
        "*   IF - Else statement\n",
        "*   List item\n",
        "\n"
      ],
      "metadata": {
        "id": "6XBDp-JN6_Vy"
      }
    },
    {
      "cell_type": "code",
      "source": [
        "# correct email- campusx@gmail.com\n",
        "# password - 1234\n",
        "\n",
        "email = input(\"Apna email bata\")\n",
        "if '@' in email:\n",
        "    password = input(\"Apna passowrd bhi bata\")\n",
        "\n",
        "    if email == \"campusx@gmail.com\" and password == \"1234\":\n",
        "        print(\"Welcome\")\n",
        "    elif email == \"campusx@gmail.com\" and password != \"1234\":\n",
        "        print(\"Password Incorrect\")\n",
        "        password = input(\"Password fir se bol\")\n",
        "        if password == \"1234\":\n",
        "            print(\"Finally correct\")\n",
        "        else:\n",
        "            print(\"Still incorrect\")\n",
        "    else:\n",
        "        print(\"Incorrect credentials\")\n",
        "else:\n",
        "    print(\"Email galat hai sahi likho\")"
      ],
      "metadata": {
        "colab": {
          "base_uri": "https://localhost:8080/"
        },
        "id": "sVRCrGsk632C",
        "outputId": "613128c9-d673-4046-8d77-e154a29c1c73"
      },
      "execution_count": 105,
      "outputs": [
        {
          "output_type": "stream",
          "name": "stdout",
          "text": [
            "Apna email bataffgg\n",
            "Email galat hai sahi likho\n"
          ]
        }
      ]
    },
    {
      "cell_type": "markdown",
      "source": [
        "**11. LECTURE**"
      ],
      "metadata": {
        "id": "9d1IF3kZ9DtJ"
      }
    },
    {
      "cell_type": "code",
      "source": [
        "name=\"xyz\"\n",
        "if name == \"xyz\":\n",
        "    print('line 1')\n",
        "    print('line2')\n",
        "    if 5 == 5:\n",
        "        print('line 5')\n",
        "else:\n",
        "    print('line3')"
      ],
      "metadata": {
        "colab": {
          "base_uri": "https://localhost:8080/"
        },
        "id": "CillDfJp63-8",
        "outputId": "0fc82063-00ff-4fad-84e9-5f84f259a50a"
      },
      "execution_count": 107,
      "outputs": [
        {
          "output_type": "stream",
          "name": "stdout",
          "text": [
            "line 1\n",
            "line2\n",
            "line 5\n"
          ]
        }
      ]
    },
    {
      "cell_type": "markdown",
      "source": [
        "**12 LECTURE**"
      ],
      "metadata": {
        "id": "NyHavIn1-AZh"
      }
    },
    {
      "cell_type": "code",
      "source": [
        "# while\n",
        "# for"
      ],
      "metadata": {
        "id": "dhTvwrMi64CZ"
      },
      "execution_count": null,
      "outputs": []
    },
    {
      "cell_type": "code",
      "source": [
        "number = int(input(\"Enter the number\"))\n",
        "\n",
        "i = 1\n",
        "\n",
        "while i<=10:\n",
        "    print(number,\"*\",i,\"=\",number * i)\n",
        "    i+=1\n",
        "\n"
      ],
      "metadata": {
        "colab": {
          "base_uri": "https://localhost:8080/"
        },
        "id": "GhcboPlP6lpY",
        "outputId": "ed955c08-d7b9-4eff-c526-e04360a9ec23"
      },
      "execution_count": 113,
      "outputs": [
        {
          "output_type": "stream",
          "name": "stdout",
          "text": [
            "Enter the number12\n",
            "12 * 1 = 12\n",
            "12 * 2 = 24\n",
            "12 * 3 = 36\n",
            "12 * 4 = 48\n",
            "12 * 5 = 60\n",
            "12 * 6 = 72\n",
            "12 * 7 = 84\n",
            "12 * 8 = 96\n",
            "12 * 9 = 108\n",
            "12 * 10 = 120\n"
          ]
        }
      ]
    },
    {
      "cell_type": "markdown",
      "source": [
        "**13. LECTURE**"
      ],
      "metadata": {
        "id": "NBtyKcM5_YDI"
      }
    },
    {
      "cell_type": "code",
      "source": [
        "import random"
      ],
      "metadata": {
        "id": "VDaVbA-p6lsh"
      },
      "execution_count": 114,
      "outputs": []
    },
    {
      "cell_type": "code",
      "source": [
        "random.randint(1,100)"
      ],
      "metadata": {
        "colab": {
          "base_uri": "https://localhost:8080/"
        },
        "id": "2LPYAr0w6lvY",
        "outputId": "21a75d4d-c7b4-4497-f45c-2a53608033eb"
      },
      "execution_count": 115,
      "outputs": [
        {
          "output_type": "execute_result",
          "data": {
            "text/plain": [
              "33"
            ]
          },
          "metadata": {},
          "execution_count": 115
        }
      ]
    },
    {
      "cell_type": "code",
      "source": [
        "jackpot = random.randint(1,100)\n",
        "\n",
        "guess = int(input(\"Chal guess kar\"))\n",
        "counter = 1\n",
        "\n",
        "while guess != jackpot:\n",
        "    if guess < jackpot:\n",
        "        print(\"Guess higher\")\n",
        "    else:\n",
        "        print(\"Guess lower\")\n",
        "\n",
        "    guess = int(input(\"Chal guess kar\"))\n",
        "    counter+=1\n",
        "\n",
        "\n",
        "print(\"Sahi Jawab\")\n",
        "print(\"You took\",counter,\"attempts\")"
      ],
      "metadata": {
        "colab": {
          "base_uri": "https://localhost:8080/"
        },
        "id": "j7hkoQES5QYI",
        "outputId": "523c97ea-98a6-4c9e-ffd6-2a0113aa4cf8"
      },
      "execution_count": 116,
      "outputs": [
        {
          "output_type": "stream",
          "name": "stdout",
          "text": [
            "Chal guess kar45\n",
            "Guess lower\n",
            "Chal guess kar78\n",
            "Guess lower\n",
            "Chal guess kar33\n",
            "Guess lower\n",
            "Chal guess kar80\n",
            "Guess lower\n",
            "Chal guess kar100\n",
            "Guess lower\n",
            "Chal guess kar10\n",
            "Sahi Jawab\n",
            "You took 6 attempts\n"
          ]
        }
      ]
    },
    {
      "cell_type": "markdown",
      "source": [
        "**14. LECTURE**"
      ],
      "metadata": {
        "id": "pIiRK1rL_x7X"
      }
    },
    {
      "cell_type": "code",
      "source": [
        "# range function\n",
        "list(range(1,11))"
      ],
      "metadata": {
        "colab": {
          "base_uri": "https://localhost:8080/"
        },
        "id": "muHESsiP5BnB",
        "outputId": "8a2e1aa6-3dc6-4f27-98b0-4370d9c6d6d2"
      },
      "execution_count": 117,
      "outputs": [
        {
          "output_type": "execute_result",
          "data": {
            "text/plain": [
              "[1, 2, 3, 4, 5, 6, 7, 8, 9, 10]"
            ]
          },
          "metadata": {},
          "execution_count": 117
        }
      ]
    },
    {
      "cell_type": "code",
      "source": [
        "list(range(15))"
      ],
      "metadata": {
        "colab": {
          "base_uri": "https://localhost:8080/"
        },
        "id": "P2UJs7I_FML0",
        "outputId": "0ffcc783-af4d-4604-8221-62b19a59160a"
      },
      "execution_count": 118,
      "outputs": [
        {
          "output_type": "execute_result",
          "data": {
            "text/plain": [
              "[0, 1, 2, 3, 4, 5, 6, 7, 8, 9, 10, 11, 12, 13, 14]"
            ]
          },
          "metadata": {},
          "execution_count": 118
        }
      ]
    },
    {
      "cell_type": "code",
      "source": [
        "list(range(1,11,3))"
      ],
      "metadata": {
        "colab": {
          "base_uri": "https://localhost:8080/"
        },
        "id": "jNsQbA8XFMPJ",
        "outputId": "39da72bc-66ee-46fb-f322-f35cc25fac23"
      },
      "execution_count": 119,
      "outputs": [
        {
          "output_type": "execute_result",
          "data": {
            "text/plain": [
              "[1, 4, 7, 10]"
            ]
          },
          "metadata": {},
          "execution_count": 119
        }
      ]
    },
    {
      "cell_type": "code",
      "source": [
        "list(range(10,0,-1))"
      ],
      "metadata": {
        "colab": {
          "base_uri": "https://localhost:8080/"
        },
        "id": "EwugslXLFMV_",
        "outputId": "16c2a9d9-1e14-4abb-97cd-ce208f9e07b3"
      },
      "execution_count": 120,
      "outputs": [
        {
          "output_type": "execute_result",
          "data": {
            "text/plain": [
              "[10, 9, 8, 7, 6, 5, 4, 3, 2, 1]"
            ]
          },
          "metadata": {},
          "execution_count": 120
        }
      ]
    },
    {
      "cell_type": "code",
      "source": [
        "# Sequence\n",
        "# String\n",
        "\"Kolkata\""
      ],
      "metadata": {
        "colab": {
          "base_uri": "https://localhost:8080/",
          "height": 35
        },
        "id": "7ewx9R3KFMZO",
        "outputId": "aa6c8df1-b708-45b9-df41-e62703b49db5"
      },
      "execution_count": 121,
      "outputs": [
        {
          "output_type": "execute_result",
          "data": {
            "text/plain": [
              "'Kolkata'"
            ],
            "application/vnd.google.colaboratory.intrinsic+json": {
              "type": "string"
            }
          },
          "metadata": {},
          "execution_count": 121
        }
      ]
    },
    {
      "cell_type": "code",
      "source": [
        "[\"Kolkata\",\"Delhi\",\"Mumbai\"]"
      ],
      "metadata": {
        "colab": {
          "base_uri": "https://localhost:8080/"
        },
        "id": "PlTmJCxFFMcx",
        "outputId": "8ed7eaeb-7e9e-469c-e0c1-a397ca0818d8"
      },
      "execution_count": 122,
      "outputs": [
        {
          "output_type": "execute_result",
          "data": {
            "text/plain": [
              "['Kolkata', 'Delhi', 'Mumbai']"
            ]
          },
          "metadata": {},
          "execution_count": 122
        }
      ]
    },
    {
      "cell_type": "code",
      "source": [
        "(\"Kolkata\",\"Delhi\",\"Mumbai\")"
      ],
      "metadata": {
        "colab": {
          "base_uri": "https://localhost:8080/"
        },
        "id": "kSFp5R0mFMjw",
        "outputId": "74362870-d031-426e-fb40-76d9b3d36557"
      },
      "execution_count": 123,
      "outputs": [
        {
          "output_type": "execute_result",
          "data": {
            "text/plain": [
              "('Kolkata', 'Delhi', 'Mumbai')"
            ]
          },
          "metadata": {},
          "execution_count": 123
        }
      ]
    },
    {
      "cell_type": "code",
      "source": [
        "for i in range(10,0,-1):\n",
        "    print(i)"
      ],
      "metadata": {
        "colab": {
          "base_uri": "https://localhost:8080/"
        },
        "id": "6u5JBnBGFMpY",
        "outputId": "56dc9a2e-b7f5-4128-c9b6-8e163f9d88ba"
      },
      "execution_count": 124,
      "outputs": [
        {
          "output_type": "stream",
          "name": "stdout",
          "text": [
            "10\n",
            "9\n",
            "8\n",
            "7\n",
            "6\n",
            "5\n",
            "4\n",
            "3\n",
            "2\n",
            "1\n"
          ]
        }
      ]
    },
    {
      "cell_type": "code",
      "source": [
        "for i in \"Kolkata\":\n",
        "    print(i)"
      ],
      "metadata": {
        "colab": {
          "base_uri": "https://localhost:8080/"
        },
        "id": "Fr5TVKXJFhHs",
        "outputId": "b91dced9-95a8-452f-d49d-482d9e6cf95c"
      },
      "execution_count": 125,
      "outputs": [
        {
          "output_type": "stream",
          "name": "stdout",
          "text": [
            "K\n",
            "o\n",
            "l\n",
            "k\n",
            "a\n",
            "t\n",
            "a\n"
          ]
        }
      ]
    },
    {
      "cell_type": "code",
      "source": [
        "for i in [1,2,3,5]:\n",
        "    print(i)"
      ],
      "metadata": {
        "colab": {
          "base_uri": "https://localhost:8080/"
        },
        "id": "H1p-SWFSFhLI",
        "outputId": "9ccd7e4b-e20b-43f0-9ec7-7d5aa28e9413"
      },
      "execution_count": 127,
      "outputs": [
        {
          "output_type": "stream",
          "name": "stdout",
          "text": [
            "1\n",
            "2\n",
            "3\n",
            "5\n"
          ]
        }
      ]
    },
    {
      "cell_type": "code",
      "source": [
        "for i in (1,2,3,5):\n",
        "    print(i)"
      ],
      "metadata": {
        "colab": {
          "base_uri": "https://localhost:8080/"
        },
        "id": "AoGiql0pFhOP",
        "outputId": "2e130c0d-6a95-48ff-c147-2393adfea15a"
      },
      "execution_count": 128,
      "outputs": [
        {
          "output_type": "stream",
          "name": "stdout",
          "text": [
            "1\n",
            "2\n",
            "3\n",
            "5\n"
          ]
        }
      ]
    },
    {
      "cell_type": "code",
      "source": [
        "for i in {1,2,3,5}:\n",
        "    print(i)"
      ],
      "metadata": {
        "colab": {
          "base_uri": "https://localhost:8080/"
        },
        "id": "kviMWv3kFhRK",
        "outputId": "7e5f02df-7524-4e79-f9b5-8312e7c66bc0"
      },
      "execution_count": 129,
      "outputs": [
        {
          "output_type": "stream",
          "name": "stdout",
          "text": [
            "1\n",
            "2\n",
            "3\n",
            "5\n"
          ]
        }
      ]
    },
    {
      "cell_type": "markdown",
      "source": [
        "**15. LECTURE**"
      ],
      "metadata": {
        "id": "SJzsZhW0GCTR"
      }
    },
    {
      "cell_type": "code",
      "source": [],
      "metadata": {
        "id": "1--vtKHRFhUY"
      },
      "execution_count": null,
      "outputs": []
    }
  ]
}